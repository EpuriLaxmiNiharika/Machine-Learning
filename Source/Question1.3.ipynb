{
 "cells": [
  {
   "cell_type": "code",
   "execution_count": 9,
   "metadata": {},
   "outputs": [
    {
     "data": {
      "text/html": [
       "<div>\n",
       "<style scoped>\n",
       "    .dataframe tbody tr th:only-of-type {\n",
       "        vertical-align: middle;\n",
       "    }\n",
       "\n",
       "    .dataframe tbody tr th {\n",
       "        vertical-align: top;\n",
       "    }\n",
       "\n",
       "    .dataframe thead th {\n",
       "        text-align: right;\n",
       "    }\n",
       "</style>\n",
       "<table border=\"1\" class=\"dataframe\">\n",
       "  <thead>\n",
       "    <tr style=\"text-align: right;\">\n",
       "      <th></th>\n",
       "      <th>longitude</th>\n",
       "      <th>latitude</th>\n",
       "      <th>housing_median_age</th>\n",
       "      <th>total_rooms</th>\n",
       "      <th>total_bedrooms</th>\n",
       "      <th>population</th>\n",
       "      <th>households</th>\n",
       "      <th>median_income</th>\n",
       "      <th>median_house_value</th>\n",
       "      <th>ocean_proximity</th>\n",
       "    </tr>\n",
       "  </thead>\n",
       "  <tbody>\n",
       "    <tr>\n",
       "      <th>0</th>\n",
       "      <td>-122.23</td>\n",
       "      <td>37.88</td>\n",
       "      <td>41.0</td>\n",
       "      <td>880.0</td>\n",
       "      <td>129.0</td>\n",
       "      <td>322.0</td>\n",
       "      <td>126.0</td>\n",
       "      <td>8.3252</td>\n",
       "      <td>452600.0</td>\n",
       "      <td>NEAR BAY</td>\n",
       "    </tr>\n",
       "    <tr>\n",
       "      <th>1</th>\n",
       "      <td>-122.22</td>\n",
       "      <td>37.86</td>\n",
       "      <td>21.0</td>\n",
       "      <td>7099.0</td>\n",
       "      <td>1106.0</td>\n",
       "      <td>2401.0</td>\n",
       "      <td>1138.0</td>\n",
       "      <td>8.3014</td>\n",
       "      <td>358500.0</td>\n",
       "      <td>NEAR BAY</td>\n",
       "    </tr>\n",
       "    <tr>\n",
       "      <th>2</th>\n",
       "      <td>-122.24</td>\n",
       "      <td>37.85</td>\n",
       "      <td>52.0</td>\n",
       "      <td>1467.0</td>\n",
       "      <td>190.0</td>\n",
       "      <td>496.0</td>\n",
       "      <td>177.0</td>\n",
       "      <td>7.2574</td>\n",
       "      <td>352100.0</td>\n",
       "      <td>NEAR BAY</td>\n",
       "    </tr>\n",
       "    <tr>\n",
       "      <th>3</th>\n",
       "      <td>-122.25</td>\n",
       "      <td>37.85</td>\n",
       "      <td>52.0</td>\n",
       "      <td>1274.0</td>\n",
       "      <td>235.0</td>\n",
       "      <td>558.0</td>\n",
       "      <td>219.0</td>\n",
       "      <td>5.6431</td>\n",
       "      <td>341300.0</td>\n",
       "      <td>NEAR BAY</td>\n",
       "    </tr>\n",
       "    <tr>\n",
       "      <th>4</th>\n",
       "      <td>-122.25</td>\n",
       "      <td>37.85</td>\n",
       "      <td>52.0</td>\n",
       "      <td>1627.0</td>\n",
       "      <td>280.0</td>\n",
       "      <td>565.0</td>\n",
       "      <td>259.0</td>\n",
       "      <td>3.8462</td>\n",
       "      <td>342200.0</td>\n",
       "      <td>NEAR BAY</td>\n",
       "    </tr>\n",
       "  </tbody>\n",
       "</table>\n",
       "</div>"
      ],
      "text/plain": [
       "   longitude  latitude  housing_median_age  total_rooms  total_bedrooms  \\\n",
       "0    -122.23     37.88                41.0        880.0           129.0   \n",
       "1    -122.22     37.86                21.0       7099.0          1106.0   \n",
       "2    -122.24     37.85                52.0       1467.0           190.0   \n",
       "3    -122.25     37.85                52.0       1274.0           235.0   \n",
       "4    -122.25     37.85                52.0       1627.0           280.0   \n",
       "\n",
       "   population  households  median_income  median_house_value ocean_proximity  \n",
       "0       322.0       126.0         8.3252            452600.0        NEAR BAY  \n",
       "1      2401.0      1138.0         8.3014            358500.0        NEAR BAY  \n",
       "2       496.0       177.0         7.2574            352100.0        NEAR BAY  \n",
       "3       558.0       219.0         5.6431            341300.0        NEAR BAY  \n",
       "4       565.0       259.0         3.8462            342200.0        NEAR BAY  "
      ]
     },
     "execution_count": 9,
     "metadata": {},
     "output_type": "execute_result"
    }
   ],
   "source": [
    "#Linear Regression Newtons Method\n",
    "import pandas as pd\n",
    "import numpy as np\n",
    "import matplotlib.pyplot as plt\n",
    "%matplotlib inline\n",
    "data = pd.read_csv('../Assignment_data/Data_Q1/housing.csv') #Loading the data from the housing.csv file\n",
    "data.head()"
   ]
  },
  {
   "cell_type": "code",
   "execution_count": 10,
   "metadata": {},
   "outputs": [],
   "source": [
    "from sklearn.model_selection import train_test_split  #Splitting the data into test and train data.\n",
    "\n",
    "train_set, test_set = train_test_split(data, test_size=0.2, random_state=42)\n"
   ]
  },
  {
   "cell_type": "code",
   "execution_count": 11,
   "metadata": {},
   "outputs": [],
   "source": [
    "import pandas as pd\n",
    "from sklearn.preprocessing import Imputer\n",
    "\n",
    "train_data = train_set.drop([\"median_house_value\",\"ocean_proximity\"],axis=1) #all the data set after droping 2 col\n",
    "train_labels = pd.DataFrame(train_set[\"median_house_value\"]) #a matrix of y(median_house_value)\n",
    "#Data Cleaning of training data\n",
    "\n",
    "imputer = Imputer(strategy=\"median\")\n",
    "imputer.fit(train_data)\n",
    "X = imputer.transform(train_data)\n",
    "leny = len(train_labels)\n",
    "imputer.fit(train_labels)\n",
    "Y = imputer.transform(train_labels)\n",
    "X1 = np.c_[np.ones((leny,1)),X]\n",
    "Y1 = pd.DataFrame(Y)\n",
    "\n",
    "#Data Cleaning of test data\n",
    "\n",
    "test_data = test_set.drop([\"median_house_value\",\"ocean_proximity\"],axis=1)\n",
    "imputer.fit(test_data)#Cleaning the test data\n",
    "test_labels = pd.DataFrame(test_set[\"median_house_value\"])\n",
    "X2 = imputer.transform(test_data)\n",
    "leny1 = len(test_labels)\n",
    "imputer.fit(test_labels)\n",
    "Y2 = imputer.transform(test_labels)\n",
    "X3 = np.c_[np.ones((leny1,1)),X2]\n",
    "Y3 = pd.DataFrame(Y2)\n",
    "\n"
   ]
  },
  {
   "cell_type": "code",
   "execution_count": 12,
   "metadata": {},
   "outputs": [],
   "source": [
    "iterations = 100\n",
    "\n",
    "def cost_function(X, y, theta):\n",
    "    #len of train_labels\n",
    "    m = len(y) \n",
    "    # Calculate the cost with the given parameters\n",
    "    J = np.sum((X.dot(theta)-y)**2)/m\n",
    "    \n",
    "    return J"
   ]
  },
  {
   "cell_type": "code",
   "execution_count": 13,
   "metadata": {},
   "outputs": [],
   "source": [
    "from numpy.linalg import inv\n",
    "\n",
    "dim = len(X1[0])  #Dimension of the data\n",
    "theta = np.zeros((dim,1))\n",
    "\n",
    "# Hessian can be calculated from below formula\n",
    "# hessian = derivative of gardient(MSE(theta)) = derivative((2/m)X.T.(X.dot(theta)-y)) = (2/m)*(X.T.dot(X))\n",
    "\n",
    "def compute_hessian(X,y,theta):  #Function which return the hessian matrix.\n",
    "    m = len(y)\n",
    "    hessian = (2*((X.T).dot(X)))/m      \n",
    "    return hessian\n",
    "    \n",
    "def newtons_method(X, y,theta,iterations): #Function which returns theta and the theta_history.\n",
    "\n",
    "    theta_history = []\n",
    "    theta_history.append(theta)\n",
    "    #alpha = compute_hessian(X,y,theta)\n",
    "    m = len(y)\n",
    "    \n",
    "    for iteration in range(iterations):\n",
    "        hypothesis = X.dot(theta)\n",
    "        error = hypothesis-y\n",
    "        gradient = (2 * (X.T).dot(error))/m #derivative of cost function\n",
    "        alpha = compute_hessian(X,y,theta) #computing hessian matrix\n",
    "        theta = theta - (inv(alpha).dot(gradient))#Theta_new=Theta_old-hessian*gradient\n",
    "        theta_history.append(theta)\n",
    "        \n",
    "    return theta,theta_history"
   ]
  },
  {
   "cell_type": "code",
   "execution_count": 14,
   "metadata": {},
   "outputs": [
    {
     "name": "stdout",
     "output_type": "stream",
     "text": [
      "CPU times: user 168 ms, sys: 4 ms, total: 172 ms\n",
      "Wall time: 85.2 ms\n"
     ]
    }
   ],
   "source": [
    "%%time\n",
    "W,theta_history = newtons_method(X1,Y1,theta,iterations)"
   ]
  },
  {
   "cell_type": "code",
   "execution_count": 15,
   "metadata": {},
   "outputs": [
    {
     "data": {
      "text/plain": [
       "array([[-3.57822423e+06],\n",
       "       [-4.26323917e+04],\n",
       "       [-4.24500719e+04],\n",
       "       [ 1.18280965e+03],\n",
       "       [-8.18797708e+00],\n",
       "       [ 1.16260128e+02],\n",
       "       [-3.84922131e+01],\n",
       "       [ 4.63425720e+01],\n",
       "       [ 4.05384044e+04]])"
      ]
     },
     "execution_count": 15,
     "metadata": {},
     "output_type": "execute_result"
    }
   ],
   "source": [
    "#Parameters\n",
    "W"
   ]
  },
  {
   "cell_type": "code",
   "execution_count": 16,
   "metadata": {},
   "outputs": [
    {
     "data": {
      "text/plain": [
       "71140.1732833627"
      ]
     },
     "execution_count": 16,
     "metadata": {},
     "output_type": "execute_result"
    }
   ],
   "source": [
    "from sklearn.metrics import mean_squared_error #finding the mean square error.\n",
    "def RMSE(X,W,Y) :\n",
    "    housing_predictions = X.dot(W)\n",
    "    lin_mse = mean_squared_error(Y,housing_predictions)\n",
    "    lin_rmse = np.sqrt(lin_mse)\n",
    "    return lin_rmse\n",
    "\n",
    "RMSE(X3,W,Y3)"
   ]
  }
 ],
 "metadata": {
  "kernelspec": {
   "display_name": "Python 3",
   "language": "python",
   "name": "python3"
  },
  "language_info": {
   "codemirror_mode": {
    "name": "ipython",
    "version": 3
   },
   "file_extension": ".py",
   "mimetype": "text/x-python",
   "name": "python",
   "nbconvert_exporter": "python",
   "pygments_lexer": "ipython3",
   "version": "3.6.4"
  }
 },
 "nbformat": 4,
 "nbformat_minor": 2
}
