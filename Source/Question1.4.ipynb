{
 "cells": [
  {
   "cell_type": "code",
   "execution_count": 7,
   "metadata": {},
   "outputs": [],
   "source": [
    "#Ridge Regression\n",
    "import matplotlib\n",
    "import matplotlib.pyplot as plt\n",
    "import numpy as np\n",
    "import pandas as pd\n",
    "import sklearn\n",
    "from sklearn.preprocessing import Imputer\n",
    "from sklearn.linear_model import Ridge\n",
    "housing_data = pd.read_csv(\"../Assignment_data/Data_Q1/housing.csv\",thousands=',')"
   ]
  },
  {
   "cell_type": "code",
   "execution_count": 8,
   "metadata": {},
   "outputs": [],
   "source": [
    "# splitting the data into train and testset\n",
    "from sklearn.model_selection import train_test_split\n",
    "\n",
    "train_set, test_set = train_test_split(housing_data, test_size=0.2, random_state=42)"
   ]
  },
  {
   "cell_type": "code",
   "execution_count": 9,
   "metadata": {},
   "outputs": [],
   "source": [
    "# predicting errors on varying lamda\n",
    "import numpy\n",
    "lambdaval = range(1,1000)\n",
    "def ridge_error_list():\n",
    "    imputer = Imputer(strategy=\"median\")\n",
    "    Y_test = pd.DataFrame(test_set.median_house_value)\n",
    "    imputer.fit(Y_test)\n",
    "    test_labels = imputer.transform(Y_test)\n",
    "    \n",
    "    # dropping columns median_house_value,ocean_proximity from train_set and test set\n",
    "    train_data1 = train_set.drop([\"median_house_value\",\"ocean_proximity\"], axis=1)\n",
    "    test_data1 = test_set.drop([\"median_house_value\",\"ocean_proximity\"], axis=1)\n",
    "    train_label = train_set.as_matrix(columns = [\"median_house_value\"])\n",
    "    test_label = test_set.as_matrix(columns = [\"median_house_value\"])\n",
    "    \n",
    "    #handling missing and Nan values of features by replacing them with its median \n",
    "    imputer.fit(train_data1)\n",
    "    imputer.fit(test_data1)\n",
    "    train_data1 = imputer.transform(train_data1)\n",
    "    test_data1 = imputer.transform(test_data1)\n",
    "    \n",
    "    # adding first column in train and test matrices to one\n",
    "    ones_matrix = np.ones((len(train_data1), 1))\n",
    "    ones_test_matrix = np.ones((len(test_data1),1))\n",
    "    new_train_matrix = np.c_[ones_matrix,train_data1]\n",
    "    new_test_matrix = np.c_[ones_test_matrix,test_data1]\n",
    "    \n",
    "    # predicting errors on varying lambda\n",
    "    errorlst = list() #holds the errors list on varying lambda value in ridge regression  \n",
    "    transpose = new_train_matrix.T\n",
    "    prod = np.dot(transpose, new_train_matrix)\n",
    "    train_tras_y = np.dot(transpose,train_label)\n",
    "    len_matrix = len(prod)\n",
    "    identity_matrix = np.identity(len_matrix)\n",
    "    identity_matrix[0][0] = 0\n",
    "    all_parameters = list()\n",
    "    \n",
    "    for x in lambdaval: # iterate through all lambdas\n",
    "        new_matrix = np.add(prod, x*identity_matrix)\n",
    "        inverse_matrix = np.linalg.inv(new_matrix)\n",
    "        predicted_params = np.dot(inverse_matrix,train_tras_y) # predicted parameters for specific lambda value\n",
    "        params_lst = list() #holds list of predicted parameters\n",
    "        predictions = list()\n",
    "        #convert predicted_params to list and store in params_lst\n",
    "        for x in range(len(predicted_params)):\n",
    "            params_lst.append(predicted_params[x])    \n",
    "        params_lst = numpy.array(params_lst)\n",
    "        all_parameters.append(params_lst)\n",
    "        \n",
    "        # computing predicted label Y = X.(theta)\n",
    "        predicted_label = numpy.dot(new_test_matrix,params_lst)\n",
    "        \n",
    "        # computing mean square error\n",
    "        msq = compute_msq(test_label,predicted_label)\n",
    "        \n",
    "        errorlst.append(msq)\n",
    "    return errorlst,all_parameters\n",
    "    "
   ]
  },
  {
   "cell_type": "code",
   "execution_count": 10,
   "metadata": {},
   "outputs": [],
   "source": [
    "from sklearn.metrics import mean_squared_error\n",
    "# compute mean square error\n",
    "def compute_msq(test_Label,housing_Predictions):\n",
    "    lin_mse = mean_squared_error(test_Label, housing_Predictions)\n",
    "    return lin_mse"
   ]
  },
  {
   "cell_type": "code",
   "execution_count": 11,
   "metadata": {},
   "outputs": [],
   "source": [
    "import math\n",
    "def main():\n",
    "    output,params = ridge_error_list()\n",
    "    opt_index = output.index(min(output))\n",
    "    opt_lambda = lambdaval[opt_index]\n",
    "    opt_params = params[opt_index]\n",
    "    opt_mean_square_error = output[opt_index]\n",
    "    print(\"optimal lambda estimated: \" + str(opt_lambda))\n",
    "    print(\"least root_mean_square_error: \"+str(math.sqrt(opt_mean_square_error)))\n",
    "    print(\"optimal parameters:\")\n",
    "    print(opt_params)\n",
    "    plt.plot(lambdaval,output)"
   ]
  },
  {
   "cell_type": "code",
   "execution_count": 12,
   "metadata": {},
   "outputs": [
    {
     "name": "stdout",
     "output_type": "stream",
     "text": [
      "optimal lambda estimated: 372\n",
      "least root_mean_square_error: 71105.94082852703\n",
      "optimal parameters:\n",
      "[[-3.29475358e+06]\n",
      " [-3.93196062e+04]\n",
      " [-3.93570904e+04]\n",
      " [ 1.23538914e+03]\n",
      " [-8.44912825e+00]\n",
      " [ 1.11346091e+02]\n",
      " [-3.86477210e+01]\n",
      " [ 5.42026677e+01]\n",
      " [ 4.06827180e+04]]\n",
      "CPU times: user 680 ms, sys: 20 ms, total: 700 ms\n",
      "Wall time: 455 ms\n"
     ]
    },
    {
     "data": {
      "image/png": "[encoded data removed]",
      "text/plain": [
       "<matplotlib.figure.Figure at 0x7ff7ccc7d780>"
      ]
     },
     "metadata": {},
     "output_type": "display_data"
    }
   ],
   "source": [
    "%%time\n",
    "main()"
   ]
  }
 ],
 "metadata": {
  "kernelspec": {
   "display_name": "Python 3",
   "language": "python",
   "name": "python3"
  },
  "language_info": {
   "codemirror_mode": {
    "name": "ipython",
    "version": 3
   },
   "file_extension": ".py",
   "mimetype": "text/x-python",
   "name": "python",
   "nbconvert_exporter": "python",
   "pygments_lexer": "ipython3",
   "version": "3.6.4"
  }
 },
 "nbformat": 4,
 "nbformat_minor": 2
}
