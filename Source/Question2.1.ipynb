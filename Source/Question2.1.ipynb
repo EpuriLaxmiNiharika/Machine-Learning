{
 "cells": [
  {
   "cell_type": "code",
   "execution_count": 8,
   "metadata": {},
   "outputs": [],
   "source": [
    "#NN\n",
    "import matplotlib\n",
    "import matplotlib.pyplot as plt\n",
    "import numpy as np\n",
    "import pandas as pd\n",
    "import sklearn\n",
    "from sklearn.preprocessing import Imputer\n",
    "from sklearn.metrics import accuracy_score\n",
    "from sklearn.metrics import precision_score\n",
    "from sklearn.metrics import recall_score\n",
    "from sklearn.metrics import roc_curve\n",
    "from sklearn.model_selection import train_test_split\n",
    "dataset = pd.read_csv(\"../Assignment_data/Data_Q2/iris.csv\",thousands=',')"
   ]
  },
  {
   "cell_type": "code",
   "execution_count": 9,
   "metadata": {},
   "outputs": [],
   "source": [
    "def data_preprocessing():\n",
    "    train_set, test_set = train_test_split(dataset, test_size=0.2, random_state=42)\n",
    "\n",
    "    #Cleaning the train data and test data\n",
    "\n",
    "    train_data = train_set.drop([\"species\"],axis=1)\n",
    "    test_data = test_set.drop([\"species\"],axis=1)\n",
    "    \n",
    "    #train_labels = train_set[\"species\"]\n",
    "    \n",
    "    train_labels = (train_set[\"species\"]==\"virginica\").astype(np.int)\n",
    "    test_labels = (test_set[\"species\"]==\"virginica\").astype(np.int)\n",
    "\n",
    "    imputer = Imputer(strategy=\"median\")\n",
    "    imputer.fit(train_data)\n",
    "    train_X = imputer.transform(train_data)\n",
    "    imputer.fit(test_data)\n",
    "    test_X = imputer.transform(test_data)\n",
    "    \n",
    "    # correlation matrix among the train features\n",
    "    corr_matrix = train_data.corr()\n",
    "    \n",
    "    #features 1,2 have high correlation value of 0.922407\n",
    "    #features 1,3 have high correlation value of 0.938654\n",
    "    # So we can drop 2,3 features. Because our dataset has less features dropping the features may not affect much the performance of model \n",
    "\n",
    "    #Scaling the test and train data\n",
    "   # train_X = scale_data(train_X)\n",
    "  #  test_X = scale_data(test_X)\n",
    "    \n",
    "    # Appending labels to the train data and test data\n",
    "    result_array1=list()\n",
    "    result_array2=list()\n",
    "   \n",
    "\n",
    "    for x in train_labels:\n",
    "        result_array1.append([x])\n",
    "\n",
    "    for x in test_labels:\n",
    "        result_array2.append([x])\n",
    "        \n",
    "    train_XY = np.append(train_X, result_array1, axis=1)\n",
    "    test_XY = np.append(test_X, result_array2, axis=1)\n",
    "    #trains = train_XY\n",
    "    #tests = test_XY\n",
    "\n",
    "    return train_XY,test_XY"
   ]
  },
  {
   "cell_type": "code",
   "execution_count": 10,
   "metadata": {},
   "outputs": [],
   "source": [
    "import math\n",
    "# compute distance between two data points\n",
    "def euclideanDistance(instance1, instance2, length):\n",
    "    distance = 0\n",
    "    for x in range(length):\n",
    "        distance += pow((instance1[x] - instance2[x]), 2)\n",
    "    return math.sqrt(distance)"
   ]
  },
  {
   "cell_type": "code",
   "execution_count": 11,
   "metadata": {},
   "outputs": [],
   "source": [
    "import operator\n",
    "#find predicted label of test datapoint \n",
    "def getPredictedLabel(trainingSet, testInstance):\n",
    "    k = len(trainingSet)\n",
    "    distances = []\n",
    "    length = len(testInstance)\n",
    "    min_distance = float('Inf')\n",
    "    min_label = 0 # holds the predicted label of the testInstance\n",
    "    for x in range(len(trainingSet)): # computing distances from testInstance to every data point in training set\n",
    "        dist = euclideanDistance(testInstance, trainingSet[x], length) \n",
    "        if(dist < min_distance):\n",
    "            min_distance = dist\n",
    "            min_label = trainingSet[x,-1]\n",
    "    return min_label"
   ]
  },
  {
   "cell_type": "code",
   "execution_count": 12,
   "metadata": {},
   "outputs": [],
   "source": [
    "# find predictions of testSet datapoint\n",
    "def compute_NearestNeighbour(trainSet,testSet):\n",
    "    predictions = list()\n",
    "    for x in range(len(testSet)):\n",
    "        predictions.append(getPredictedLabel(trainSet,testSet[x]))\n",
    "    return predictions"
   ]
  },
  {
   "cell_type": "code",
   "execution_count": 13,
   "metadata": {},
   "outputs": [],
   "source": [
    "# main function for nearest neighbor algo and accuracy score prediction\n",
    "from sklearn.metrics import accuracy_score\n",
    "from sklearn.metrics import precision_score\n",
    "from sklearn.metrics import recall_score\n",
    "from sklearn.metrics import roc_curve\n",
    "def main_fun():\n",
    "    train_set,test_set = data_preprocessing()\n",
    "    predicted_labels = compute_NearestNeighbour(train_set,test_set)\n",
    "    accuracy = accuracy_score(test_set[:,-1],predicted_labels)\n",
    "    fpr, tpr, thresholds = roc_curve(test_set[:,-1], predicted_labels, pos_label=0)\n",
    "    fpr1, tpr1, thresholds = roc_curve(test_set[:,-1], predicted_labels, pos_label=1)\n",
    "    auc_score = sklearn.metrics.auc(fpr, tpr)\n",
    "    auc_score1 = sklearn.metrics.auc(fpr1, tpr1)\n",
    "    print(accuracy)"
   ]
  },
  {
   "cell_type": "code",
   "execution_count": 14,
   "metadata": {},
   "outputs": [
    {
     "name": "stdout",
     "output_type": "stream",
     "text": [
      "1.0\n",
      "CPU times: user 32 ms, sys: 0 ns, total: 32 ms\n",
      "Wall time: 29.8 ms\n"
     ]
    }
   ],
   "source": [
    "%%time\n",
    "main_fun()"
   ]
  },
  {
   "cell_type": "code",
   "execution_count": null,
   "metadata": {},
   "outputs": [],
   "source": []
  }
 ],
 "metadata": {
  "kernelspec": {
   "display_name": "Python 3",
   "language": "python",
   "name": "python3"
  },
  "language_info": {
   "codemirror_mode": {
    "name": "ipython",
    "version": 3
   },
   "file_extension": ".py",
   "mimetype": "text/x-python",
   "name": "python",
   "nbconvert_exporter": "python",
   "pygments_lexer": "ipython3",
   "version": "3.6.4"
  }
 },
 "nbformat": 4,
 "nbformat_minor": 2
}
