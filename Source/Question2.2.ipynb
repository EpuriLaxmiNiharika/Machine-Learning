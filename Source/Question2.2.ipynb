{
 "cells": [
  {
   "cell_type": "code",
   "execution_count": 1,
   "metadata": {},
   "outputs": [
    {
     "data": {
      "text/html": [
       "<div>\n",
       "<style scoped>\n",
       "    .dataframe tbody tr th:only-of-type {\n",
       "        vertical-align: middle;\n",
       "    }\n",
       "\n",
       "    .dataframe tbody tr th {\n",
       "        vertical-align: top;\n",
       "    }\n",
       "\n",
       "    .dataframe thead th {\n",
       "        text-align: right;\n",
       "    }\n",
       "</style>\n",
       "<table border=\"1\" class=\"dataframe\">\n",
       "  <thead>\n",
       "    <tr style=\"text-align: right;\">\n",
       "      <th></th>\n",
       "      <th>sepal_length</th>\n",
       "      <th>sepal_width</th>\n",
       "      <th>petal_length</th>\n",
       "      <th>petal_width</th>\n",
       "      <th>species</th>\n",
       "    </tr>\n",
       "  </thead>\n",
       "  <tbody>\n",
       "    <tr>\n",
       "      <th>0</th>\n",
       "      <td>5.1</td>\n",
       "      <td>3.5</td>\n",
       "      <td>1.4</td>\n",
       "      <td>0.2</td>\n",
       "      <td>setosa</td>\n",
       "    </tr>\n",
       "    <tr>\n",
       "      <th>1</th>\n",
       "      <td>4.9</td>\n",
       "      <td>3.0</td>\n",
       "      <td>1.4</td>\n",
       "      <td>0.2</td>\n",
       "      <td>setosa</td>\n",
       "    </tr>\n",
       "    <tr>\n",
       "      <th>2</th>\n",
       "      <td>4.7</td>\n",
       "      <td>3.2</td>\n",
       "      <td>1.3</td>\n",
       "      <td>0.2</td>\n",
       "      <td>setosa</td>\n",
       "    </tr>\n",
       "    <tr>\n",
       "      <th>3</th>\n",
       "      <td>4.6</td>\n",
       "      <td>3.1</td>\n",
       "      <td>1.5</td>\n",
       "      <td>0.2</td>\n",
       "      <td>setosa</td>\n",
       "    </tr>\n",
       "    <tr>\n",
       "      <th>4</th>\n",
       "      <td>5.0</td>\n",
       "      <td>3.6</td>\n",
       "      <td>1.4</td>\n",
       "      <td>0.2</td>\n",
       "      <td>setosa</td>\n",
       "    </tr>\n",
       "  </tbody>\n",
       "</table>\n",
       "</div>"
      ],
      "text/plain": [
       "   sepal_length  sepal_width  petal_length  petal_width species\n",
       "0           5.1          3.5           1.4          0.2  setosa\n",
       "1           4.9          3.0           1.4          0.2  setosa\n",
       "2           4.7          3.2           1.3          0.2  setosa\n",
       "3           4.6          3.1           1.5          0.2  setosa\n",
       "4           5.0          3.6           1.4          0.2  setosa"
      ]
     },
     "execution_count": 1,
     "metadata": {},
     "output_type": "execute_result"
    }
   ],
   "source": [
    "#Naive Bayes Classifier for Iris Data\n",
    "import pandas as pd\n",
    "import numpy as np\n",
    "import matplotlib.pyplot as plt\n",
    "%matplotlib inline\n",
    "\n",
    "data = pd.read_csv('../Assignment_data/Data_Q2/iris.csv') #Loading the data from iris dataset\n",
    "data.head()"
   ]
  },
  {
   "cell_type": "code",
   "execution_count": 2,
   "metadata": {},
   "outputs": [],
   "source": [
    "#Split the data into test and train data\n",
    "from sklearn.model_selection import train_test_split\n",
    "\n",
    "train_set, test_set = train_test_split(data, test_size=0.2, random_state=42)"
   ]
  },
  {
   "cell_type": "code",
   "execution_count": 3,
   "metadata": {},
   "outputs": [
    {
     "name": "stdout",
     "output_type": "stream",
     "text": [
      "CPU times: user 20 ms, sys: 4 ms, total: 24 ms\n",
      "Wall time: 633 ms\n"
     ]
    }
   ],
   "source": [
    "%%time\n",
    "import math\n",
    "from numpy.linalg import pinv\n",
    "from sklearn.preprocessing import Imputer\n",
    "\n",
    "#train_set.head()\n",
    "train_data = train_set.copy() #all the data set.\n",
    "train_data[\"species\"] = ((train_data[\"species\"]==\"virginica\").astype(int)) #Converting the string labels to int labels and having two classes.\n",
    "\n",
    "\n",
    "def summary(train_data): #To find the mean and covariance matrix of both the classes.\n",
    "    #separate the data by classes\n",
    "    class1_data = (train_data.loc[train_data['species']==0]).drop([\"species\"],axis=1)\n",
    "    class2_data = (train_data.loc[train_data['species']==1]).drop([\"species\"],axis=1)\n",
    "\n",
    "    mean_class1 = np.array(class1_data.mean())\n",
    "    mean_class2 = np.array(class2_data.mean())\n",
    "    cov_class1 = np.array(class1_data.cov())\n",
    "    cov_class2 = np.array(class2_data.cov())\n",
    "\n",
    "    mean = []\n",
    "    mean.append(mean_class1)\n",
    "    mean.append(mean_class2)\n",
    "    cova = []\n",
    "    cova.append(cov_class1)\n",
    "    cova.append(cov_class2)\n",
    "    \n",
    "    return mean,cova\n",
    "\n",
    "mean,cova = summary(train_data) #mean and covariance matrix of the two classes in train_data\n",
    "\n",
    "def Gaussian(x,mean,cova):#Probability of a given class i.e P(x/c) = 1/(((2*pi)^d/2*det(co-matrix)^1/2) * e^-((x-mean).T.inv(co-matrix).(x-mean))/2)\n",
    "    d = len(x)\n",
    "    exponent = math.exp((-1)*(((x-mean).T).dot(pinv(cova)).dot((x-mean))/2.0))\n",
    "    result = (exponent)/(math.sqrt(((2*math.pi)**d)*np.linalg.det(cova)))\n",
    "    return result"
   ]
  },
  {
   "cell_type": "code",
   "execution_count": 4,
   "metadata": {},
   "outputs": [
    {
     "data": {
      "text/plain": [
       "array([0, 0, 0, 0, 0, 0, 0, 1, 0, 0, 1, 0, 0, 0, 0, 0, 1, 0, 0, 1, 0, 1,\n",
       "       0, 1, 1, 1, 1, 1, 0, 0])"
      ]
     },
     "execution_count": 4,
     "metadata": {},
     "output_type": "execute_result"
    }
   ],
   "source": [
    "def predictLabel(mean,cova,x): #Prediction of the class label based on the probabilty of the class\n",
    "    if(Gaussian(x,mean[0],cova[0]) > Gaussian(x,mean[1],cova[1])):\n",
    "        return 0\n",
    "    return 1\n",
    "\n",
    "def getPredictions(mean,cova,data): #To get the Prected labels for whole test data\n",
    "    predictions = []\n",
    "    for i in range(len(data)):\n",
    "        result = predictLabel(mean,cova,data[i])\n",
    "        predictions.append(result)\n",
    "    return np.array(predictions)\n",
    "\n",
    "test_data = test_set.drop([\"species\"],axis=1)\n",
    "test_labels = np.array((test_set[\"species\"]==\"virginica\").astype(int))\n",
    "predictedLabels = getPredictions(mean,cova,np.array(test_data))\n",
    "predictedLabels"
   ]
  },
  {
   "cell_type": "code",
   "execution_count": 5,
   "metadata": {},
   "outputs": [
    {
     "data": {
      "text/plain": [
       "0.9666666666666667"
      ]
     },
     "execution_count": 5,
     "metadata": {},
     "output_type": "execute_result"
    }
   ],
   "source": [
    "from sklearn.metrics import accuracy_score #Calculating Accuracy\n",
    "accuracy_score(test_labels,predictedLabels)"
   ]
  }
 ],
 "metadata": {
  "kernelspec": {
   "display_name": "Python 3",
   "language": "python",
   "name": "python3"
  },
  "language_info": {
   "codemirror_mode": {
    "name": "ipython",
    "version": 3
   },
   "file_extension": ".py",
   "mimetype": "text/x-python",
   "name": "python",
   "nbconvert_exporter": "python",
   "pygments_lexer": "ipython3",
   "version": "3.6.4"
  }
 },
 "nbformat": 4,
 "nbformat_minor": 2
}
